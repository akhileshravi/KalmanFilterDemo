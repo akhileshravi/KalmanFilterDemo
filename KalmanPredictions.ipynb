{
 "cells": [
  {
   "cell_type": "code",
   "execution_count": 2,
   "metadata": {},
   "outputs": [],
   "source": [
    "'''\n",
    "Kalman Filter Predictions\n",
    "\n",
    "Rahul Manusmare\n",
    "Mohit Balani\n",
    "Kaushal Modi\n",
    "Akhilesh Ravi\n",
    "\n",
    "'''\n",
    "\n",
    "import cv2 as cv\n",
    "import numpy as np\n",
    "import math\n",
    "import matplotlib.pyplot as plt\n",
    "import nbinteract as nbi"
   ]
  },
  {
   "cell_type": "code",
   "execution_count": 3,
   "metadata": {},
   "outputs": [],
   "source": [
    "# Instantiate OCV kalman filter\n",
    "class KalmanFilter:\n",
    "\n",
    "    kf = cv.KalmanFilter(4, 2)\n",
    "    kf.measurementMatrix = np.array([[1, 0, 0, 0], [0, 1, 0, 0]], np.float32)\n",
    "    kf.transitionMatrix = np.array([[1, 0, 1, 0], [0, 1, 0, 1], [0, 0, 1, 0], [0, 0, 0, 1]], np.float32)\n",
    "\n",
    "    def Estimate(self, coordX, coordY):\n",
    "        ''' This function estimates the position of the object'''\n",
    "        measured = np.array([[np.float32(coordX)], [np.float32(coordY)]])\n",
    "        self.kf.correct(measured)\n",
    "        predicted = self.kf.predict()\n",
    "        return predicted\n",
    "\n",
    "def normal(mean, sd):\n",
    "    '''Returns 1000 points drawn at random fron N(mean, sd)'''\n",
    "    return np.random.normal(mean, sd, 1000)\n",
    "\n",
    "\n",
    "# Instantiate OCV kalman filter\n",
    "class KalmanFilter:\n",
    "\n",
    "    kf = cv.KalmanFilter(4, 2)\n",
    "    kf.measurementMatrix = np.array([[1, 0, 0, 0], [0, 1, 0, 0]], np.float32)\n",
    "    kf.transitionMatrix = np.array([[1, 0, 1, 0], [0, 1, 0, 1], [0, 0, 1, 0], [0, 0, 0, 1]], np.float32)\n",
    "\n",
    "    def Estimate(self, coordX, coordY):\n",
    "        ''' This function estimates the position of the object'''\n",
    "        measured = np.array([[np.float32(coordX)], [np.float32(coordY)]])\n",
    "        self.kf.correct(measured)\n",
    "        predicted = self.kf.predict()\n",
    "        return predicted\n",
    "\n",
    "#Performs required image processing to get ball coordinated in the video\n",
    "\n",
    "def Predict(x, flag=0):\n",
    "    if flag == 1:\n",
    "        global traj_x,traj_y, pred_x, pred_y\n",
    "        y = math.sin(x)\n",
    "        \n",
    "        traj_x.append(x)\n",
    "        traj_y.append(y)\n",
    "        \n",
    "        # Kalman Filter Object\n",
    "        global kfObj\n",
    "\n",
    "        predictedCoords = kfObj.Estimate(x, y)\n",
    "        \n",
    "        pred_x.append(predictedCoords[0])\n",
    "        pred_y.append(predictedCoords[1])\n",
    "\n",
    "        \n",
    "        plt.plot(traj_x[1:], traj_y[1:],'r',label='Actual')\n",
    "        plt.plot(pred_x[:-1], pred_y[:-1],'y',label='Predicted')\n",
    "        \n",
    "        plt.show()\n",
    "\n",
    "        return []\n",
    "    else:\n",
    "        plt.plot(traj_x[1:], traj_y[1:],'r',label='Actual')\n",
    "        plt.plot(pred_x[:-1], pred_y[:-1],'y',label='Predicted')\n",
    "\n",
    "        plt.show()\n",
    "        return []"
   ]
  },
  {
   "cell_type": "code",
   "execution_count": 4,
   "metadata": {
    "scrolled": true
   },
   "outputs": [
    {
     "data": {
      "image/png": "[encoded data removed]",
      "text/plain": [
       "<Figure size 432x288 with 1 Axes>"
      ]
     },
     "metadata": {
      "needs_background": "light"
     },
     "output_type": "display_data"
    },
    {
     "data": {
      "application/vnd.jupyter.widget-view+json": {
       "model_id": "31b00b39959d4ab5ada9901acb408fd4",
       "version_major": 2,
       "version_minor": 0
      },
      "text/plain": [
       "VBox(children=(interactive(children=(FloatSlider(value=12.566370614359172, description='x', max=18.84955592153…"
      ]
     },
     "metadata": {},
     "output_type": "display_data"
    }
   ],
   "source": [
    "#Create Kalman Filter Object\n",
    "kfObj = KalmanFilter()\n",
    "predictedCoords = np.zeros((2, 1), np.float32)\n",
    "\n",
    "pos = []\n",
    "i = 0\n",
    "\n",
    "traj_x = [i*2*math.pi/20 for i in range(20)]\n",
    "traj_y = [math.sin(val) for val in traj_x]\n",
    "\n",
    "pred_x = []\n",
    "pred_y = []\n",
    "\n",
    "while(i < 20):\n",
    "    ballX, ballY = traj_x[i], traj_y[i]\n",
    "\n",
    "    predictedCoords = kfObj.Estimate(ballX, ballY)\n",
    "    pred_x.append(predictedCoords[0])\n",
    "    pred_y.append(predictedCoords[1])\n",
    "    i += 1\n",
    "\n",
    "plt.plot(traj_x[1:], traj_y[1:],'r',label='Actual')\n",
    "plt.plot(pred_x[:-1], pred_y[:-1],'y',label='Predicted')\n",
    "plt.show()\n",
    "\n",
    "nbi.hist(Predict, x=(2*math.pi, 6*math.pi), flag=(0,1))"
   ]
  }
 ],
 "metadata": {
  "kernelspec": {
   "display_name": "Python 3",
   "language": "python",
   "name": "python3"
  },
  "language_info": {
   "codemirror_mode": {
    "name": "ipython",
    "version": 3
   },
   "file_extension": ".py",
   "mimetype": "text/x-python",
   "name": "python",
   "nbconvert_exporter": "python",
   "pygments_lexer": "ipython3",
   "version": "3.6.7"
  }
 },
 "nbformat": 4,
 "nbformat_minor": 2
}
